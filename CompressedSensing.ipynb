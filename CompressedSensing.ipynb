{
 "cells": [
  {
   "cell_type": "markdown",
   "metadata": {},
   "source": [
    "## Load the necessary modules and package."
   ]
  },
  {
   "cell_type": "code",
   "execution_count": 1,
   "metadata": {},
   "outputs": [],
   "source": [
    "import numpy as np\n",
    "import matplotlib.pyplot as plt\n",
    "import scipy.io as sio"
   ]
  },
  {
   "cell_type": "markdown",
   "metadata": {},
   "source": [
    "## Define the transformation functions between k-space domain and image domain."
   ]
  },
  {
   "cell_type": "code",
   "execution_count": 2,
   "metadata": {},
   "outputs": [],
   "source": [
    "def image2kspace(x):\n",
    "    if isinstance(x, np.ndarray):\n",
    "        x = np.fft.ifftshift(x, axes=(-2, -1))\n",
    "        x = np.fft.fft2(x)\n",
    "        x = np.fft.fftshift(x, axes=(-2, -1))\n",
    "        return x\n",
    "    else:\n",
    "        raise RuntimeError(\"Unsupported type.\")\n",
    "\n",
    "\n",
    "def kspace2image(x):\n",
    "    if isinstance(x, np.ndarray):\n",
    "        x = np.fft.ifftshift(x, axes=(-2, -1))\n",
    "        x = np.fft.ifft2(x)\n",
    "        x = np.fft.fftshift(x, axes=(-2, -1))\n",
    "        return x\n",
    "    else:\n",
    "        raise RuntimeError(\"Unsupported type.\")"
   ]
  },
  {
   "cell_type": "markdown",
   "metadata": {},
   "source": [
    "## Load the image and coil arrays."
   ]
  },
  {
   "cell_type": "code",
   "execution_count": 3,
   "metadata": {},
   "outputs": [
    {
     "name": "stdout",
     "output_type": "stream",
     "text": [
      "The shape of image is: (256, 256), the dtype of image is: float64\n",
      "The shape of coil is: (8, 256, 256), the dtype of coil is: complex128\n"
     ]
    }
   ],
   "source": [
    "image = np.array(sio.loadmat('./M.mat')['M'])\n",
    "coils = np.array(sio.loadmat('./C.mat')['C']).transpose((2, 0, 1))\n",
    "print(f'The shape of image is: {image.shape}, the dtype of image is: {image.dtype}')\n",
    "print(f'The shape of coil is: {coils.shape}, the dtype of coil is: {coils.dtype}')"
   ]
  },
  {
   "cell_type": "markdown",
   "metadata": {},
   "source": []
  },
  {
   "cell_type": "code",
   "execution_count": null,
   "metadata": {},
   "outputs": [],
   "source": []
  }
 ],
 "metadata": {
  "kernelspec": {
   "display_name": "pytorch_env",
   "language": "python",
   "name": "python3"
  },
  "language_info": {
   "codemirror_mode": {
    "name": "ipython",
    "version": 3
   },
   "file_extension": ".py",
   "mimetype": "text/x-python",
   "name": "python",
   "nbconvert_exporter": "python",
   "pygments_lexer": "ipython3",
   "version": "3.10.12"
  }
 },
 "nbformat": 4,
 "nbformat_minor": 2
}
